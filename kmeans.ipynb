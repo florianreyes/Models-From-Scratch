{
 "cells": [
  {
   "cell_type": "code",
   "execution_count": 2,
   "metadata": {},
   "outputs": [],
   "source": [
    "import numpy as np\n",
    "import matplotlib.pyplot as plt"
   ]
  },
  {
   "cell_type": "code",
   "execution_count": null,
   "metadata": {},
   "outputs": [],
   "source": [
    "class KmeansClassifier:\n",
    "\n",
    "    def __init__(self, k):\n",
    "        self.k = k\n",
    "        self.centroids = None\n",
    "        self.labels = None\n",
    "\n",
    "    @staticmethod\n",
    "    def euc_distance(centroids, x):\n",
    "        return np.sqrt(np.sum(centroids - x)**2, axis = 1)\n",
    "    \n",
    "    def fit(self, X, max_iters = 200):\n",
    "        # Initialize random centroids\n",
    "        self.centroids = np.random.uniform(low = np.amin(X, axis = 0), high = np.amax(X, axis = 0), size = (self.k, X.shape[1]))\n",
    "        for _ in range(max_iters):\n",
    "            y = []\n",
    "            for point in X:\n",
    "                # Calculate distance from each centroid for each point\n",
    "                distances = self.euc_distance(self.centroids, point)\n",
    "                label = np.argmin(distances)\n",
    "                # Assign the corresponding label(centroid) to each point\n",
    "                y.append(label)\n",
    "            y = np.array(y)\n",
    "\n",
    "            centroid_points = []\n",
    "            for i in range(self.k):\n",
    "                centroid_points.append(np.argwhere(y == i).flatten())\n",
    "            \n",
    "            aux_centroids = self.centroids.copy()\n",
    "            for centroid, points in enumerate(centroid_points):\n",
    "                self.centroids[centroid] = np.mean(X[points], axis = 0)\n",
    "            \n",
    "            if np.allclose(aux_centroids, self.centroids):\n",
    "                break\n",
    "            \n",
    "            \n",
    "                \n",
    "            \n"
   ]
  },
  {
   "cell_type": "code",
   "execution_count": 6,
   "metadata": {},
   "outputs": [
    {
     "name": "stdout",
     "output_type": "stream",
     "text": [
      "[[1 2]\n",
      " [1 0]]\n"
     ]
    }
   ],
   "source": [
    "x = np.array([[1, 2], \n",
    "              [28, 4], \n",
    "              [1, 0]])\n",
    "\n",
    "print(x[[0, 2]])"
   ]
  },
  {
   "cell_type": "code",
   "execution_count": 4,
   "metadata": {},
   "outputs": [
    {
     "name": "stdout",
     "output_type": "stream",
     "text": [
      "[0]\n"
     ]
    }
   ],
   "source": [
    "y = np.array([1, 2, 3])\n",
    "X = np.array([[1, 2],[1, 3], [1, 4]])\n",
    "print(np.argwhere(y == 1).flatten())\n"
   ]
  }
 ],
 "metadata": {
  "kernelspec": {
   "display_name": "Python 3",
   "language": "python",
   "name": "python3"
  },
  "language_info": {
   "codemirror_mode": {
    "name": "ipython",
    "version": 3
   },
   "file_extension": ".py",
   "mimetype": "text/x-python",
   "name": "python",
   "nbconvert_exporter": "python",
   "pygments_lexer": "ipython3",
   "version": "3.10.2"
  },
  "orig_nbformat": 4
 },
 "nbformat": 4,
 "nbformat_minor": 2
}
