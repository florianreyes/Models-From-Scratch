{
 "cells": [
  {
   "cell_type": "code",
   "execution_count": 2,
   "metadata": {},
   "outputs": [],
   "source": [
    "import numpy as np\n",
    "import matplotlib.pyplot as plt\n",
    "from collections import Counter"
   ]
  },
  {
   "cell_type": "code",
   "execution_count": null,
   "metadata": {},
   "outputs": [],
   "source": [
    "class KnnClassifier:\n",
    "\n",
    "    def __init__(self, k=4):\n",
    "        self.k = k\n",
    "        self.points\n",
    "\n",
    "    def euclidean_distance(self, x1, x2):\n",
    "        return np.sqrt(np.sum((np.array(x1) - np.array(x2))**2))\n",
    "    \n",
    "    def fit(self, points):\n",
    "        self.points = points\n",
    "        \n",
    "    def predict(self, y):\n",
    "        distances_cluster_list = []\n",
    "        for cluster in self.points:\n",
    "            for point in cluster:\n",
    "                distances_cluster_list.append(\n",
    "                    (cluster, self.euclidean_distance(point, y)))\n",
    "        distances_cluster_list.sort(key=lambda x: x[1], ascending=True)[:self.k]\n",
    "        counter = Counter([cluster[0] for cluster in distances_cluster_list])\n",
    "        return counter.most_common(1)[0][0]"
   ]
  }
 ],
 "metadata": {
  "kernelspec": {
   "display_name": "Python 3",
   "language": "python",
   "name": "python3"
  },
  "language_info": {
   "codemirror_mode": {
    "name": "ipython",
    "version": 3
   },
   "file_extension": ".py",
   "mimetype": "text/x-python",
   "name": "python",
   "nbconvert_exporter": "python",
   "pygments_lexer": "ipython3",
   "version": "3.10.2"
  },
  "orig_nbformat": 4
 },
 "nbformat": 4,
 "nbformat_minor": 2
}
